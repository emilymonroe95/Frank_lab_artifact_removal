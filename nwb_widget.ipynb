{
 "cells": [
  {
   "cell_type": "code",
   "execution_count": 1,
   "id": "176b70b3-62d9-4b94-ba94-f8cbb974274b",
   "metadata": {},
   "outputs": [],
   "source": [
    "#nwb widget"
   ]
  },
  {
   "cell_type": "code",
   "execution_count": 3,
   "id": "46352aa8-3d42-45a6-8253-cad2c7d7614f",
   "metadata": {},
   "outputs": [],
   "source": [
    "import pynwb\n",
    "import ndx_franklab_novela\n",
    "from nwbwidgets import nwb2widget"
   ]
  },
  {
   "cell_type": "code",
   "execution_count": 4,
   "id": "c9dac1d1-d23b-4fc0-9599-2b5e75a73b79",
   "metadata": {},
   "outputs": [
    {
     "data": {
      "application/vnd.jupyter.widget-view+json": {
       "model_id": "6f45aa175752408495164e450fd9536a",
       "version_major": 2,
       "version_minor": 0
      },
      "text/plain": [
       "VBox(children=(HBox(children=(Label(value='session_description:', layout=Layout(max_height='40px', max_width='…"
      ]
     },
     "metadata": {},
     "output_type": "display_data"
    }
   ],
   "source": [
    "nwb_file_name = 'senor20201030.nwb'\n",
    "nwb_path = '/stelmo/nwb/raw/' + nwb_file_name\n",
    "io = pynwb.NWBHDF5IO(nwb_path, mode='r')\n",
    "nwb = io.read()\n",
    "nwb2widget(nwb)"
   ]
  },
  {
   "cell_type": "code",
   "execution_count": null,
   "id": "f1fb5fa6-081d-4257-94d8-6664590c2d13",
   "metadata": {},
   "outputs": [],
   "source": []
  }
 ],
 "metadata": {
  "kernelspec": {
   "display_name": "Python [conda env:nwb_datajoint] *",
   "language": "python",
   "name": "conda-env-nwb_datajoint-py"
  },
  "language_info": {
   "codemirror_mode": {
    "name": "ipython",
    "version": 3
   },
   "file_extension": ".py",
   "mimetype": "text/x-python",
   "name": "python",
   "nbconvert_exporter": "python",
   "pygments_lexer": "ipython3",
   "version": "3.8.12"
  }
 },
 "nbformat": 4,
 "nbformat_minor": 5
}
