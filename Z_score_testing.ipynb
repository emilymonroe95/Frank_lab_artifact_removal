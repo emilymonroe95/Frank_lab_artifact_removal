{
 "cells": [
  {
   "cell_type": "code",
   "execution_count": null,
   "id": "87f98b24-2e56-424c-a7d9-fe9ca0d98f10",
   "metadata": {},
   "outputs": [],
   "source": []
  },
  {
   "cell_type": "code",
   "execution_count": 58,
   "id": "a92788b1-ea4f-4058-852d-55542d04a8be",
   "metadata": {},
   "outputs": [],
   "source": [
    "import os\n",
    "import numpy as np\n",
    "import datajoint as dj\n",
    "import spyglass as nd\n",
    "\n",
    "import matplotlib.pyplot as plt\n",
    "# ignore datajoint+jupyter async warnings\n",
    "import warnings\n",
    "warnings.simplefilter('ignore', category=DeprecationWarning)\n",
    "warnings.simplefilter('ignore', category=ResourceWarning)\n",
    "\n",
    "from spyglass.common import (Session, IntervalList,LabMember, LabTeam, Raw, Session, Nwbfile,\n",
    "                            Electrode)\n",
    "import spyglass.spikesorting as ss\n",
    "from spyglass.spikesorting import (SortGroup, \n",
    "                                    SortInterval,\n",
    "                                    SpikeSortingPreprocessingParameters,\n",
    "                                    SpikeSortingRecording, \n",
    "                                    SpikeSorterParameters,\n",
    "                                    SpikeSortingRecordingSelection,\n",
    "                                    ArtifactDetectionParameters, ArtifactDetectionSelection,\n",
    "                                    ArtifactRemovedIntervalList, ArtifactDetection,\n",
    "                                      SpikeSortingSelection, SpikeSorting,)\n",
    "import spikeinterface as si\n",
    "\n",
    "import scipy.stats as stats\n",
    "\n",
    "# (SpikeSortingRecording() & {'team_name': 'ac_em_xs'} &{'sort_interval_name':'02_r1_noPrePostTrialTimes_test_100s'})\n",
    "\n",
    "\n",
    "# wilbur20210406_.nwb\n",
    "# 25"
   ]
  },
  {
   "cell_type": "code",
   "execution_count": 59,
   "id": "018bf1ce-87a9-4d52-82ac-404357a01118",
   "metadata": {},
   "outputs": [
    {
     "name": "stdout",
     "output_type": "stream",
     "text": [
      "['default' 'z_5_prop_025_1ms']\n",
      "z_5_prop_025_1ms\n"
     ]
    }
   ],
   "source": [
    "# sort_group = 25\n",
    "# nwb_file_name='chimi20200216_new_.nwb'\n",
    "# # sort_interval_name = 'sleeps_runs_noPrePostTrialTimes raw data valid times'\n",
    "# sort_interval_name = '04_r2noPrePostTrialTimes_test_100s'\n",
    "\n",
    "nwb_file_name='wilbur20210406_.nwb'\n",
    "sort_interval_name = '02_r1_noPrePostTrialTimes_test_100s'\n",
    "sort_group= 25\n",
    "# # sort_interval_name = 'runs_noPrePostTrialTimes raw data valid times'\n",
    "electrode_wire_to_view = 0\n",
    "\n",
    "#go to artifact detection table to find the params associated with this file,check if theres more than one\n",
    "artifact_param_ix = 1\n",
    "artifact_params = (ArtifactDetectionSelection &  {'nwb_file_name' : nwb_file_name} & {'sort_group_id':sort_group}).fetch('artifact_params_name')\n",
    "print(artifact_params)\n",
    "# change the zero if you want other artifact params than the first one, based on printout of artifact params\n",
    "artifact_params = artifact_params[artifact_param_ix]\n",
    "print(artifact_params)\n",
    "look_at_raw = True\n",
    "look_at_hists = False\n",
    "look_at_1_elec_art = True\n",
    "look_at_all_art_all_elecs = False\n",
    "look_at_all_raw_with_art = False\n",
    "\n",
    "\n",
    "\n",
    "#just use 1, load it, and then delete? google how to delete a variable "
   ]
  },
  {
   "cell_type": "code",
   "execution_count": null,
   "id": "d3ad419c-4ddc-4e85-8ff3-0a23cb9e66b6",
   "metadata": {},
   "outputs": [],
   "source": []
  },
  {
   "cell_type": "code",
   "execution_count": 3,
   "id": "f1fbb8d0-a6b3-4486-9d55-3be63f0241b1",
   "metadata": {},
   "outputs": [],
   "source": [
    "#start scratch- this is to quickly popualte artifact tables with new params "
   ]
  },
  {
   "cell_type": "code",
   "execution_count": 4,
   "id": "c4153e4e-184b-4b61-8ae4-97e9c819b484",
   "metadata": {},
   "outputs": [],
   "source": [
    "# (SpikeSortingRecordingSelection() & {'nwb_file_name':nwb_file_name} & {'sort_group_id':30})#.fetch('sort_group_id')"
   ]
  },
  {
   "cell_type": "code",
   "execution_count": 5,
   "id": "07435af9-d400-4365-8b7a-3ce4f915d12a",
   "metadata": {},
   "outputs": [],
   "source": [
    "\n",
    "# artifact_param_names =  'ampl_1000_prop_075_1ms'\n",
    "# artifact_key = (SpikeSortingRecordingSelection() &  {'nwb_file_name' : nwb_file_name} & \n",
    "#                  {'sort_interval_name' : sort_interval_name} & {'sort_group_id' : sort_group}).fetch1('KEY')\n",
    "# artifact_key['artifact_params_name'] = artifact_param_names\n",
    "\n",
    "# ArtifactDetectionSelection.insert1(artifact_key, skip_duplicates=True)\n",
    "\n"
   ]
  },
  {
   "cell_type": "code",
   "execution_count": 6,
   "id": "a23db36d-202a-471c-ab54-b8f187a5344e",
   "metadata": {},
   "outputs": [],
   "source": [
    "# ArtifactDetectionSelection & artifact_key"
   ]
  },
  {
   "cell_type": "code",
   "execution_count": 7,
   "id": "5924f4bf-ef46-4651-887e-e9bc0facf63f",
   "metadata": {},
   "outputs": [],
   "source": [
    "# ArtifactDetection.populate([(ArtifactDetectionSelection & artifact_key).proj()])"
   ]
  },
  {
   "cell_type": "code",
   "execution_count": 8,
   "id": "c564c3bf-3eb3-4e8e-bc90-0f79fd9be71b",
   "metadata": {},
   "outputs": [],
   "source": [
    "# (ArtifactDetection & artifact_key).fetch('artifact_times')"
   ]
  },
  {
   "cell_type": "code",
   "execution_count": 9,
   "id": "2b4f0ef5-db60-4116-893c-540fbf11b861",
   "metadata": {},
   "outputs": [],
   "source": [
    "#end scratch"
   ]
  },
  {
   "cell_type": "code",
   "execution_count": 72,
   "id": "31d416d8-62c7-4ab6-a43b-d5d766d4b77e",
   "metadata": {},
   "outputs": [
    {
     "name": "stdout",
     "output_type": "stream",
     "text": [
      "Versions are not the same. This might lead to errors. Use  spikeinterface version 0.95.0.dev0\n"
     ]
    }
   ],
   "source": [
    "# %%timeit\n",
    "#this cell will get the recording path, grab the recording, get valid timestamps and data from this recording. At least for the plots. \n",
    "# sclicing in numpy, not as list. \n",
    "\n",
    "recording_path = (SpikeSortingRecording & {'nwb_file_name' : nwb_file_name} & {'sort_interval_name' :sort_interval_name} & {'sort_group_id' : sort_group}).fetch1('recording_path')\n",
    "\n",
    "recording = si.load_extractor(recording_path)\n",
    "valid_timestamps = SpikeSortingRecording._get_recording_timestamps(recording)\n",
    "if recording.get_num_segments() > 1 and isinstance(recording, si.AppendSegmentRecording):\n",
    "    recording = si.concatenate_recordings(recording.recording_list)\n",
    "elif recording.get_num_segments() > 1 and isinstance(recording, si.BinaryRecordingExtractor):\n",
    "    recording = si.concatenate_recordings([recording])\n",
    "data = recording.get_traces()\n",
    "\n",
    "#reinforcement learning, sutton, barto - free online. first chapter\n",
    "\n",
    "#any if people have found a good way to characterize \n",
    "#ask daniel and jen\n",
    "#post publicaly. \n"
   ]
  },
  {
   "cell_type": "code",
   "execution_count": 73,
   "id": "205bf60f-1843-4f32-a36b-70852b496670",
   "metadata": {},
   "outputs": [
    {
     "data": {
      "text/plain": [
       "(2999974, 32)"
      ]
     },
     "execution_count": 73,
     "metadata": {},
     "output_type": "execute_result"
    }
   ],
   "source": [
    "data.shape"
   ]
  },
  {
   "cell_type": "code",
   "execution_count": 44,
   "id": "5d93e22a-5f0c-477b-8f62-c4ce6dfddb63",
   "metadata": {},
   "outputs": [
    {
     "data": {
      "text/plain": [
       "array([[ 3,  3, -1, ...,  0,  1, -1],\n",
       "       [ 7, 31, 25, ...,  6,  5, 10],\n",
       "       [12, 41, 27, ...,  8, 13, 16],\n",
       "       ...,\n",
       "       [ 7,  5, 17, ..., 11,  6,  6],\n",
       "       [-6, -6, 15, ...,  4,  8, -4],\n",
       "       [-5, -2,  2, ..., -3,  0, -1]], dtype=int16)"
      ]
     },
     "execution_count": 44,
     "metadata": {},
     "output_type": "execute_result"
    }
   ],
   "source": [
    "data = np.asarray(recording.get_traces()) #- can take every 5th data point or something. 6 data points per ms \n",
    "\n",
    "data"
   ]
  },
  {
   "cell_type": "code",
   "execution_count": 45,
   "id": "97253abe-b641-47c5-8fb8-58da5982dd9c",
   "metadata": {},
   "outputs": [
    {
     "data": {
      "image/png": "[encoded data removed]",
      "text/plain": [
       "<Figure size 432x288 with 1 Axes>"
      ]
     },
     "metadata": {
      "needs_background": "light"
     },
     "output_type": "display_data"
    }
   ],
   "source": [
    "for ix in range(0,32):\n",
    "    plt.plot(data[:,ix])"
   ]
  },
  {
   "cell_type": "code",
   "execution_count": 16,
   "id": "7ac236db-51e5-4d84-9ba7-822a50bb8589",
   "metadata": {},
   "outputs": [
    {
     "data": {
      "text/plain": [
       "[<matplotlib.lines.Line2D at 0x7fa28d5ff280>]"
      ]
     },
     "execution_count": 16,
     "metadata": {},
     "output_type": "execute_result"
    },
    {
     "data": {
      "image/png": "[encoded data removed]",
      "text/plain": [
       "<Figure size 432x288 with 1 Axes>"
      ]
     },
     "metadata": {
      "needs_background": "light"
     },
     "output_type": "display_data"
    }
   ],
   "source": []
  },
  {
   "cell_type": "code",
   "execution_count": 6,
   "id": "9040c298-4fa9-4e88-b4b2-15471c1b08e7",
   "metadata": {},
   "outputs": [
    {
     "data": {
      "text/plain": [
       "(2999974, 32)"
      ]
     },
     "execution_count": 6,
     "metadata": {},
     "output_type": "execute_result"
    }
   ],
   "source": [
    "data.shape"
   ]
  },
  {
   "cell_type": "code",
   "execution_count": 74,
   "id": "f14ee73b-c177-4ac2-99a9-474c6138a415",
   "metadata": {},
   "outputs": [],
   "source": [
    "artifact_params = 'z_5_prop_025_1ms'"
   ]
  },
  {
   "cell_type": "code",
   "execution_count": 75,
   "id": "b9a42474-808e-4ee8-a82e-7dcb9143fe2f",
   "metadata": {},
   "outputs": [
    {
     "data": {
      "text/plain": [
       "{'zscore_thresh': 5,\n",
       " 'amplitude_thresh': None,\n",
       " 'proportion_above_thresh': 0.25,\n",
       " 'removal_window_ms': 1}"
      ]
     },
     "execution_count": 75,
     "metadata": {},
     "output_type": "execute_result"
    }
   ],
   "source": [
    "(ArtifactDetectionParameters() & {'artifact_params_name':artifact_params}).fetch1('artifact_params')"
   ]
  },
  {
   "cell_type": "code",
   "execution_count": 76,
   "id": "dba05c4a-bc43-4079-afb0-32ee80adb7e0",
   "metadata": {},
   "outputs": [],
   "source": [
    "amplitude_thresh =  (ArtifactDetectionParameters() & {'artifact_params_name':artifact_params}).fetch1('artifact_params')['amplitude_thresh']\n",
    "zscore_thresh = (ArtifactDetectionParameters() & {'artifact_params_name':artifact_params}).fetch1('artifact_params')['zscore_thresh']\n",
    "proportion_above_thresh = (ArtifactDetectionParameters() & {'artifact_params_name':artifact_params}).fetch1('artifact_params')['proportion_above_thresh']"
   ]
  },
  {
   "cell_type": "code",
   "execution_count": 143,
   "id": "0814db00-1d81-440e-9cc8-2f361c969d3e",
   "metadata": {},
   "outputs": [],
   "source": [
    "zscore_thresh\n",
    "amplitude_thresh\n",
    "nelect_above=np.ceil(.75 *\n",
    "                           len(recording.get_channel_ids()))"
   ]
  },
  {
   "cell_type": "code",
   "execution_count": 147,
   "id": "7ed3a74d-df87-4c96-9154-f473246d702a",
   "metadata": {},
   "outputs": [
    {
     "data": {
      "text/plain": [
       "24.0"
      ]
     },
     "execution_count": 147,
     "metadata": {},
     "output_type": "execute_result"
    }
   ],
   "source": [
    "nelect_above"
   ]
  },
  {
   "cell_type": "code",
   "execution_count": 145,
   "id": "0aec8a74-148e-4103-9ef4-a0f921535a05",
   "metadata": {},
   "outputs": [],
   "source": [
    "if ((amplitude_thresh is None) and (zscore_thresh is not None)):\n",
    "        dataz = np.abs(stats.zscore(data, axis=0))\n",
    "        above_z = dataz[:,] > zscore_thresh\n",
    "        above_thresh = np.ravel(np.argwhere(\n",
    "            np.sum(above_z, axis=1) >= nelect_above))"
   ]
  },
  {
   "cell_type": "code",
   "execution_count": 148,
   "id": "c96f77fd-8637-4240-92cc-0d8e5d4bbf6a",
   "metadata": {},
   "outputs": [
    {
     "data": {
      "text/plain": [
       "array([   2365,    2366,    2367,   15984,   20200,   20201,   20202,\n",
       "         20203,   20206,   20207,   20208,   35357,   35358,   35359,\n",
       "         77309,   77317,   77318,  163728,  163729,  163730,  163731,\n",
       "        163732,  163733,  258447,  258448,  258449,  258450,  258451,\n",
       "        333966,  333967,  333968,  333969,  333970,  333971,  333972,\n",
       "        333973,  333974,  333985,  333986,  333987,  333988,  333989,\n",
       "        344948,  389072,  389073,  389074,  389075,  389076,  389096,\n",
       "        389097,  389098,  389099,  511717,  511718,  511719,  526369,\n",
       "        526370,  526371,  526372,  526373,  526374,  526375,  526376,\n",
       "        526377,  591658,  591659,  591660,  591661,  596262,  596263,\n",
       "        601146,  631389,  631390,  631391,  631392,  631393,  691379,\n",
       "        691392,  691393,  691394,  691395,  691396,  720160,  720161,\n",
       "        720162,  720163,  737146,  737147,  737148,  819466,  819467,\n",
       "        819468,  819469,  819470,  819471,  863376,  863377,  863378,\n",
       "        863379,  863380,  863381,  863382,  868275,  868276,  868277,\n",
       "        868278,  868279,  868280,  878685,  878686,  878687,  878688,\n",
       "        878705,  920910,  920914,  975958,  975959,  975960,  975961,\n",
       "        975962,  975963,  975964,  975965, 1089543, 1089544, 1089545,\n",
       "       1089546, 1089547, 1089548, 1089549, 1127762, 1184993, 1184994,\n",
       "       1313830, 1348747, 1368045, 1368046, 1368047, 1398804, 1398805,\n",
       "       1398806, 1398807, 1409057, 1409083, 1409084, 1409085, 1425384,\n",
       "       1425385, 1425386, 1425387, 1463389, 1463390, 1463391, 1463392,\n",
       "       1474336, 1474337, 1474338, 1726142, 1726143, 1726144, 1726145,\n",
       "       1726146, 1726147, 1726148, 1726149, 1726150, 1726151, 1726152,\n",
       "       1726162, 1726163, 1726164, 1726165, 1726166, 1726167, 1726168,\n",
       "       1726169, 1726170, 1743175, 1743176, 1743177, 1758200, 1758201,\n",
       "       1758202, 1769064, 1780271, 1780272, 1780273, 1780274, 1780275,\n",
       "       1780276, 1780277, 1780278, 1780279, 1810918, 1810919, 1858535,\n",
       "       1858536, 1858537, 1917199, 1917200, 2035000, 2035001, 2035002,\n",
       "       2035003, 2035004, 2035005, 2035006, 2035007, 2035019, 2035020,\n",
       "       2035021, 2035022, 2103782, 2103783, 2103860, 2103861, 2103862,\n",
       "       2103883, 2103884, 2103885, 2103886, 2103887, 2103888, 2103889,\n",
       "       2103890, 2103891, 2103892, 2172672, 2172673, 2172674, 2172675,\n",
       "       2172676, 2172677, 2180659, 2180660, 2180661, 2180662, 2180663,\n",
       "       2180664, 2180665, 2203204, 2203205, 2203206, 2203207, 2244270,\n",
       "       2244271, 2244272, 2244273, 2266506, 2300373, 2300374, 2404743,\n",
       "       2404744, 2404745, 2404746, 2404747, 2404748, 2404749, 2415683,\n",
       "       2415684, 2422175, 2422176, 2422177, 2433099, 2433100, 2433101,\n",
       "       2433102, 2433103, 2433104, 2499889, 2499890, 2499891, 2499894,\n",
       "       2517617, 2517618, 2517619, 2517620, 2517621, 2517838, 2517839,\n",
       "       2999510, 2999511, 2999512, 2999513, 2999514])"
      ]
     },
     "execution_count": 148,
     "metadata": {},
     "output_type": "execute_result"
    }
   ],
   "source": [
    "above_thresh"
   ]
  },
  {
   "cell_type": "code",
   "execution_count": 53,
   "id": "d864fcc8-76eb-4353-a6e5-4dd604f2b306",
   "metadata": {},
   "outputs": [],
   "source": [
    "data_sample = dataz[:,1]"
   ]
  },
  {
   "cell_type": "code",
   "execution_count": 31,
   "id": "13bf77ea-ad04-491d-bd52-7e967776b985",
   "metadata": {},
   "outputs": [
    {
     "data": {
      "text/plain": [
       "(2999974,)"
      ]
     },
     "execution_count": 31,
     "metadata": {},
     "output_type": "execute_result"
    }
   ],
   "source": [
    "data_sample.shape"
   ]
  },
  {
   "cell_type": "code",
   "execution_count": null,
   "id": "093bd7de-9e23-4ca6-92f2-e9cf384d64f4",
   "metadata": {},
   "outputs": [],
   "source": [
    "for ix in range(0,32):\n",
    "    plt.figure()\n",
    "    data_sample = dataz[:,ix]\n",
    "    plt.plot(data_sample >5)\n",
    "plt.title('finding when the data is over 5- diff colors = diff electrodes')"
   ]
  },
  {
   "cell_type": "code",
   "execution_count": 61,
   "id": "35628289-b20d-41ef-9e70-41472cc18526",
   "metadata": {},
   "outputs": [
    {
     "data": {
      "text/plain": [
       "True"
      ]
     },
     "execution_count": 61,
     "metadata": {},
     "output_type": "execute_result"
    }
   ],
   "source": [
    "1617726933.1902506 in valid_timestamps\n",
    "\n"
   ]
  },
  {
   "cell_type": "code",
   "execution_count": 79,
   "id": "2e1174e1-45af-422d-972a-1d5a783ff408",
   "metadata": {},
   "outputs": [
    {
     "ename": "IndexError",
     "evalue": "too many indices for array: array is 2-dimensional, but 3 were indexed",
     "output_type": "error",
     "traceback": [
      "\u001b[0;31m---------------------------------------------------------------------------\u001b[0m",
      "\u001b[0;31mIndexError\u001b[0m                                Traceback (most recent call last)",
      "Input \u001b[0;32mIn [79]\u001b[0m, in \u001b[0;36m<cell line: 1>\u001b[0;34m()\u001b[0m\n\u001b[1;32m      1\u001b[0m \u001b[38;5;28;01mfor\u001b[39;00m ix \u001b[38;5;129;01min\u001b[39;00m \u001b[38;5;28mrange\u001b[39m(\u001b[38;5;241m0\u001b[39m,\u001b[38;5;241m32\u001b[39m):\n\u001b[0;32m----> 2\u001b[0m     plt\u001b[38;5;241m.\u001b[39mplot(\u001b[43mdata\u001b[49m\u001b[43m[\u001b[49m\u001b[43m[\u001b[49m\u001b[43mvalid_timestamps\u001b[49m\u001b[38;5;241;43m==\u001b[39;49m\u001b[38;5;241;43m1617726933.1902506\u001b[39;49m\u001b[43m]\u001b[49m\u001b[43m,\u001b[49m\u001b[43mix\u001b[49m\u001b[43m]\u001b[49m)\n",
      "File \u001b[0;32m~/miniconda2/envs/spyglass/lib/python3.8/site-packages/numpy/core/memmap.py:334\u001b[0m, in \u001b[0;36mmemmap.__getitem__\u001b[0;34m(self, index)\u001b[0m\n\u001b[1;32m    333\u001b[0m \u001b[38;5;28;01mdef\u001b[39;00m \u001b[38;5;21m__getitem__\u001b[39m(\u001b[38;5;28mself\u001b[39m, index):\n\u001b[0;32m--> 334\u001b[0m     res \u001b[38;5;241m=\u001b[39m \u001b[38;5;28;43msuper\u001b[39;49m\u001b[43m(\u001b[49m\u001b[43m)\u001b[49m\u001b[38;5;241;43m.\u001b[39;49m\u001b[38;5;21;43m__getitem__\u001b[39;49m\u001b[43m(\u001b[49m\u001b[43mindex\u001b[49m\u001b[43m)\u001b[49m\n\u001b[1;32m    335\u001b[0m     \u001b[38;5;28;01mif\u001b[39;00m \u001b[38;5;28mtype\u001b[39m(res) \u001b[38;5;129;01mis\u001b[39;00m memmap \u001b[38;5;129;01mand\u001b[39;00m res\u001b[38;5;241m.\u001b[39m_mmap \u001b[38;5;129;01mis\u001b[39;00m \u001b[38;5;28;01mNone\u001b[39;00m:\n\u001b[1;32m    336\u001b[0m         \u001b[38;5;28;01mreturn\u001b[39;00m res\u001b[38;5;241m.\u001b[39mview(\u001b[38;5;28mtype\u001b[39m\u001b[38;5;241m=\u001b[39mndarray)\n",
      "\u001b[0;31mIndexError\u001b[0m: too many indices for array: array is 2-dimensional, but 3 were indexed"
     ]
    }
   ],
   "source": [
    "for ix in range(0,32):\n",
    "    plt.plot(data[[valid_timestamps==1617726933.1902506],ix])"
   ]
  },
  {
   "cell_type": "code",
   "execution_count": 88,
   "id": "c42370f3-9407-4b10-91fa-432c2cc749ab",
   "metadata": {},
   "outputs": [
    {
     "name": "stdout",
     "output_type": "stream",
     "text": [
      "[1.67644465]\n",
      "[0.36586903]\n",
      "[0.11467537]\n",
      "[0.50784805]\n",
      "[0.40955488]\n",
      "[0.23481147]\n",
      "[0.32218317]\n",
      "[0.36586903]\n",
      "[0.93378513]\n",
      "[0.49692659]\n",
      "[0.93378513]\n",
      "[0.62798415]\n",
      "[0.42047635]\n",
      "[0.4641622]\n",
      "[1.89487392]\n",
      "[0.14743976]\n",
      "[0.81364903]\n",
      "[0.98839245]\n",
      "[1.19590026]\n",
      "[0.68259147]\n",
      "[0.20204708]\n",
      "[0.24573293]\n",
      "[2.89964857]\n",
      "[0.50784805]\n",
      "[0.0163822]\n",
      "[1.33787928]\n",
      "[1.20682172]\n",
      "[1.73105197]\n",
      "[1.38156514]\n",
      "[1.0320783]\n",
      "[0.55153391]\n",
      "[0.33310464]\n"
     ]
    }
   ],
   "source": [
    "for ix in range(0,32):\n",
    "    print(dataz[:,ix][valid_timestamps==1617726933.1902175])"
   ]
  },
  {
   "cell_type": "code",
   "execution_count": 71,
   "id": "6168864e-cf69-4cea-a7a1-30a941f1b127",
   "metadata": {},
   "outputs": [
    {
     "data": {
      "text/plain": [
       "(2999974,)"
      ]
     },
     "execution_count": 71,
     "metadata": {},
     "output_type": "execute_result"
    }
   ],
   "source": [
    "# dataz.shape\n",
    "valid_timestamps.shape"
   ]
  },
  {
   "cell_type": "code",
   "execution_count": 95,
   "id": "f5fd685e-eb73-4cfe-b6a2-24cf8a5f813d",
   "metadata": {},
   "outputs": [
    {
     "data": {
      "image/png": "[encoded data removed]",
      "text/plain": [
       "<Figure size 432x288 with 1 Axes>"
      ]
     },
     "metadata": {
      "needs_background": "light"
     },
     "output_type": "display_data"
    }
   ],
   "source": [
    "dataz = np.abs(stats.zscore(data, axis=1))\n",
    "for ix in range(0,32):\n",
    "    # plt.figure()\n",
    "    plt.plot(dataz[:,ix])\n",
    "    "
   ]
  },
  {
   "cell_type": "code",
   "execution_count": 98,
   "id": "31c3bf3a-03b7-47bd-8059-ee4c0655ce14",
   "metadata": {},
   "outputs": [
    {
     "data": {
      "image/png": "[encoded data removed]",
      "text/plain": [
       "<Figure size 432x288 with 1 Axes>"
      ]
     },
     "metadata": {
      "needs_background": "light"
     },
     "output_type": "display_data"
    }
   ],
   "source": [
    "for ix in range(0,32):\n",
    "    dataz = np.abs(stats.zscore(data[:,ix]))\n",
    "    plt.plot(dataz)"
   ]
  },
  {
   "cell_type": "code",
   "execution_count": 93,
   "id": "b7ed450f-e529-407a-af57-3ee794293e56",
   "metadata": {},
   "outputs": [
    {
     "data": {
      "text/plain": [
       "(2999974,)"
      ]
     },
     "execution_count": 93,
     "metadata": {},
     "output_type": "execute_result"
    }
   ],
   "source": []
  },
  {
   "cell_type": "code",
   "execution_count": null,
   "id": "7bc8d75d-9ab6-4ab6-bd45-36e3c802a21b",
   "metadata": {},
   "outputs": [],
   "source": []
  },
  {
   "cell_type": "code",
   "execution_count": 110,
   "id": "ffb1ded5-aed1-42b3-bda2-1f3fa5e5ae7c",
   "metadata": {},
   "outputs": [
    {
     "data": {
      "text/plain": [
       "[<matplotlib.lines.Line2D at 0x7fa28c00b3a0>]"
      ]
     },
     "execution_count": 110,
     "metadata": {},
     "output_type": "execute_result"
    },
    {
     "data": {
      "image/png": "[encoded data removed]",
      "text/plain": [
       "<Figure size 432x288 with 1 Axes>"
      ]
     },
     "metadata": {
      "needs_background": "light"
     },
     "output_type": "display_data"
    }
   ],
   "source": [
    "plt.plot(abs(data[:,0]))\n",
    "# plt.figure()\n",
    "plt.plot(22*dataz[:,0])"
   ]
  },
  {
   "cell_type": "code",
   "execution_count": 111,
   "id": "eb027a6f-7ba3-4a66-a9c4-b0eddae02a70",
   "metadata": {},
   "outputs": [
    {
     "ename": "KeyboardInterrupt",
     "evalue": "",
     "output_type": "error",
     "traceback": [
      "\u001b[0;31m---------------------------------------------------------------------------\u001b[0m",
      "\u001b[0;31mKeyboardInterrupt\u001b[0m                         Traceback (most recent call last)",
      "Input \u001b[0;32mIn [111]\u001b[0m, in \u001b[0;36m<cell line: 2>\u001b[0;34m()\u001b[0m\n\u001b[1;32m      1\u001b[0m plt\u001b[38;5;241m.\u001b[39mplot(data[\u001b[38;5;241m0\u001b[39m,:])\n\u001b[0;32m----> 2\u001b[0m \u001b[43mplt\u001b[49m\u001b[38;5;241;43m.\u001b[39;49m\u001b[43mplot\u001b[49m\u001b[43m(\u001b[49m\u001b[38;5;241;43m*\u001b[39;49m\u001b[43mdataz\u001b[49m\u001b[43m[\u001b[49m\u001b[43m:\u001b[49m\u001b[43m,\u001b[49m\u001b[38;5;241;43m0\u001b[39;49m\u001b[43m]\u001b[49m\u001b[43m)\u001b[49m\n",
      "File \u001b[0;32m~/miniconda2/envs/spyglass/lib/python3.8/site-packages/matplotlib/pyplot.py:2769\u001b[0m, in \u001b[0;36mplot\u001b[0;34m(scalex, scaley, data, *args, **kwargs)\u001b[0m\n\u001b[1;32m   2767\u001b[0m \u001b[38;5;129m@_copy_docstring_and_deprecators\u001b[39m(Axes\u001b[38;5;241m.\u001b[39mplot)\n\u001b[1;32m   2768\u001b[0m \u001b[38;5;28;01mdef\u001b[39;00m \u001b[38;5;21mplot\u001b[39m(\u001b[38;5;241m*\u001b[39margs, scalex\u001b[38;5;241m=\u001b[39m\u001b[38;5;28;01mTrue\u001b[39;00m, scaley\u001b[38;5;241m=\u001b[39m\u001b[38;5;28;01mTrue\u001b[39;00m, data\u001b[38;5;241m=\u001b[39m\u001b[38;5;28;01mNone\u001b[39;00m, \u001b[38;5;241m*\u001b[39m\u001b[38;5;241m*\u001b[39mkwargs):\n\u001b[0;32m-> 2769\u001b[0m     \u001b[38;5;28;01mreturn\u001b[39;00m \u001b[43mgca\u001b[49m\u001b[43m(\u001b[49m\u001b[43m)\u001b[49m\u001b[38;5;241;43m.\u001b[39;49m\u001b[43mplot\u001b[49m\u001b[43m(\u001b[49m\n\u001b[1;32m   2770\u001b[0m \u001b[43m        \u001b[49m\u001b[38;5;241;43m*\u001b[39;49m\u001b[43margs\u001b[49m\u001b[43m,\u001b[49m\u001b[43m \u001b[49m\u001b[43mscalex\u001b[49m\u001b[38;5;241;43m=\u001b[39;49m\u001b[43mscalex\u001b[49m\u001b[43m,\u001b[49m\u001b[43m \u001b[49m\u001b[43mscaley\u001b[49m\u001b[38;5;241;43m=\u001b[39;49m\u001b[43mscaley\u001b[49m\u001b[43m,\u001b[49m\n\u001b[1;32m   2771\u001b[0m \u001b[43m        \u001b[49m\u001b[38;5;241;43m*\u001b[39;49m\u001b[38;5;241;43m*\u001b[39;49m\u001b[43m(\u001b[49m\u001b[43m{\u001b[49m\u001b[38;5;124;43m\"\u001b[39;49m\u001b[38;5;124;43mdata\u001b[39;49m\u001b[38;5;124;43m\"\u001b[39;49m\u001b[43m:\u001b[49m\u001b[43m \u001b[49m\u001b[43mdata\u001b[49m\u001b[43m}\u001b[49m\u001b[43m \u001b[49m\u001b[38;5;28;43;01mif\u001b[39;49;00m\u001b[43m \u001b[49m\u001b[43mdata\u001b[49m\u001b[43m \u001b[49m\u001b[38;5;129;43;01mis\u001b[39;49;00m\u001b[43m \u001b[49m\u001b[38;5;129;43;01mnot\u001b[39;49;00m\u001b[43m \u001b[49m\u001b[38;5;28;43;01mNone\u001b[39;49;00m\u001b[43m \u001b[49m\u001b[38;5;28;43;01melse\u001b[39;49;00m\u001b[43m \u001b[49m\u001b[43m{\u001b[49m\u001b[43m}\u001b[49m\u001b[43m)\u001b[49m\u001b[43m,\u001b[49m\u001b[43m \u001b[49m\u001b[38;5;241;43m*\u001b[39;49m\u001b[38;5;241;43m*\u001b[39;49m\u001b[43mkwargs\u001b[49m\u001b[43m)\u001b[49m\n",
      "File \u001b[0;32m~/miniconda2/envs/spyglass/lib/python3.8/site-packages/matplotlib/axes/_axes.py:1632\u001b[0m, in \u001b[0;36mAxes.plot\u001b[0;34m(self, scalex, scaley, data, *args, **kwargs)\u001b[0m\n\u001b[1;32m   1390\u001b[0m \u001b[38;5;124;03m\"\"\"\u001b[39;00m\n\u001b[1;32m   1391\u001b[0m \u001b[38;5;124;03mPlot y versus x as lines and/or markers.\u001b[39;00m\n\u001b[1;32m   1392\u001b[0m \n\u001b[0;32m   (...)\u001b[0m\n\u001b[1;32m   1629\u001b[0m \u001b[38;5;124;03m(``'green'``) or hex strings (``'#008000'``).\u001b[39;00m\n\u001b[1;32m   1630\u001b[0m \u001b[38;5;124;03m\"\"\"\u001b[39;00m\n\u001b[1;32m   1631\u001b[0m kwargs \u001b[38;5;241m=\u001b[39m cbook\u001b[38;5;241m.\u001b[39mnormalize_kwargs(kwargs, mlines\u001b[38;5;241m.\u001b[39mLine2D)\n\u001b[0;32m-> 1632\u001b[0m lines \u001b[38;5;241m=\u001b[39m [\u001b[38;5;241m*\u001b[39m\u001b[38;5;28mself\u001b[39m\u001b[38;5;241m.\u001b[39m_get_lines(\u001b[38;5;241m*\u001b[39margs, data\u001b[38;5;241m=\u001b[39mdata, \u001b[38;5;241m*\u001b[39m\u001b[38;5;241m*\u001b[39mkwargs)]\n\u001b[1;32m   1633\u001b[0m \u001b[38;5;28;01mfor\u001b[39;00m line \u001b[38;5;129;01min\u001b[39;00m lines:\n\u001b[1;32m   1634\u001b[0m     \u001b[38;5;28mself\u001b[39m\u001b[38;5;241m.\u001b[39madd_line(line)\n",
      "File \u001b[0;32m~/miniconda2/envs/spyglass/lib/python3.8/site-packages/matplotlib/axes/_base.py:308\u001b[0m, in \u001b[0;36m_process_plot_var_args.__call__\u001b[0;34m(self, data, *args, **kwargs)\u001b[0m\n\u001b[1;32m    304\u001b[0m \u001b[38;5;66;03m# Repeatedly grab (x, y) or (x, y, format) from the front of args and\u001b[39;00m\n\u001b[1;32m    305\u001b[0m \u001b[38;5;66;03m# massage them into arguments to plot() or fill().\u001b[39;00m\n\u001b[1;32m    307\u001b[0m \u001b[38;5;28;01mwhile\u001b[39;00m args:\n\u001b[0;32m--> 308\u001b[0m     this, args \u001b[38;5;241m=\u001b[39m args[:\u001b[38;5;241m2\u001b[39m], \u001b[43margs\u001b[49m\u001b[43m[\u001b[49m\u001b[38;5;241;43m2\u001b[39;49m\u001b[43m:\u001b[49m\u001b[43m]\u001b[49m\n\u001b[1;32m    309\u001b[0m     \u001b[38;5;28;01mif\u001b[39;00m args \u001b[38;5;129;01mand\u001b[39;00m \u001b[38;5;28misinstance\u001b[39m(args[\u001b[38;5;241m0\u001b[39m], \u001b[38;5;28mstr\u001b[39m):\n\u001b[1;32m    310\u001b[0m         this \u001b[38;5;241m+\u001b[39m\u001b[38;5;241m=\u001b[39m args[\u001b[38;5;241m0\u001b[39m],\n",
      "\u001b[0;31mKeyboardInterrupt\u001b[0m: "
     ]
    },
    {
     "data": {
      "image/png": "[encoded data removed]",
      "text/plain": [
       "<Figure size 432x288 with 1 Axes>"
      ]
     },
     "metadata": {
      "needs_background": "light"
     },
     "output_type": "display_data"
    }
   ],
   "source": [
    "plt.plot(data[0,:])\n",
    "plt.plot(dataz[:,0])"
   ]
  },
  {
   "cell_type": "code",
   "execution_count": 107,
   "id": "d2f7db75-f6ca-445d-b33c-8842396016bf",
   "metadata": {},
   "outputs": [],
   "source": [
    "dataz = np.abs(stats.zscore(data, axis=1))\n"
   ]
  },
  {
   "cell_type": "code",
   "execution_count": 96,
   "id": "31e36629-511b-4d9a-9295-18da834fd084",
   "metadata": {},
   "outputs": [
    {
     "data": {
      "text/plain": [
       "(2999974, 32)"
      ]
     },
     "execution_count": 96,
     "metadata": {},
     "output_type": "execute_result"
    }
   ],
   "source": [
    "data.shape"
   ]
  },
  {
   "cell_type": "code",
   "execution_count": 99,
   "id": "ba47715a-a0ae-4488-bb43-11a3a0323bdb",
   "metadata": {},
   "outputs": [
    {
     "data": {
      "image/png": "[encoded data removed]",
      "text/plain": [
       "<Figure size 432x288 with 1 Axes>"
      ]
     },
     "metadata": {
      "needs_background": "light"
     },
     "output_type": "display_data"
    }
   ],
   "source": [
    "dataz = np.abs(stats.zscore(data, axis=0))\n",
    "for ix in range(0,32):\n",
    "    # plt.figure()\n",
    "    plt.plot(dataz[:,ix])"
   ]
  },
  {
   "cell_type": "code",
   "execution_count": null,
   "id": "24f1343e-e7a5-4192-87a4-6d9467d7b740",
   "metadata": {},
   "outputs": [],
   "source": [
    "data"
   ]
  },
  {
   "cell_type": "code",
   "execution_count": 115,
   "id": "13d2fa23-7f75-4ff7-875f-6e076e626df3",
   "metadata": {},
   "outputs": [
    {
     "name": "stdout",
     "output_type": "stream",
     "text": [
      "[[ 0.25400025  0.07347734  0.52605453]\n",
      " [-0.76200076 -1.20012997 -1.009456  ]\n",
      " [-1.01600102 -0.41637162 -0.89571448]\n",
      " [ 1.52400152  1.54302424  1.37911594]]\n",
      "[[-1.13554995 -0.16222142  1.29777137]\n",
      " [-1.22474487  0.          1.22474487]\n",
      " [-1.22474487  1.22474487  0.        ]\n",
      " [-1.27872403  0.11624764  1.16247639]]\n"
     ]
    }
   ],
   "source": [
    "data_eg = np.asarray([[5,15,30],[1,2,3],[0,10,5],[10,30,45]])\n",
    "\n",
    "\n",
    "# print(data_eg.shape)\n",
    "\n",
    "# data_1 = stats.zscore([5,15,30])\n",
    "# print(data_1)\n",
    "\n",
    "# # data_2 = stats.zscore([1,2,3])\n",
    "# # print(data_2)\n",
    "\n",
    "# # data_3 = stats.zscore([0,10,5])\n",
    "# # print(data_3)\n",
    "\n",
    "# data_4 = stats.zscore([10,30,45])\n",
    "# print(data_4)\n",
    "\n",
    "axis_0 = stats.zscore(data_eg,axis = 0)\n",
    "print(axis_0)\n",
    "axis_1 = stats.zscore(data_eg,axis = 1)\n",
    "print(axis_1)\n"
   ]
  },
  {
   "cell_type": "code",
   "execution_count": 130,
   "id": "43bbcd3b-5dc1-48b7-bf5b-5d494a0def2e",
   "metadata": {},
   "outputs": [
    {
     "name": "stdout",
     "output_type": "stream",
     "text": [
      "shape of original data set = (2999974, 32)\n",
      " we want to take zscore within 1 electrode, over time\n"
     ]
    }
   ],
   "source": [
    "print(f'shape of original data set = {data.shape}\\n we want to take zscore within 1 electrode, over time')\n"
   ]
  },
  {
   "cell_type": "code",
   "execution_count": 132,
   "id": "46d43ca8-7e5f-4ee5-9c6c-6dacdd6ef379",
   "metadata": {},
   "outputs": [
    {
     "name": "stdout",
     "output_type": "stream",
     "text": [
      "example data set, where relative dimensions match the original-(5, 2)\n"
     ]
    }
   ],
   "source": [
    "# data_eg = np.array([[0,0,0,0,0,0,0],[2,2,2,2,2,2,2]])\n",
    "data_eg = np.array([[0,0],[1,1],[4,6],[8,10],[20,50]])\n",
    "print(f'example data set, where relative dimensions match the original-{data_eg.shape}')"
   ]
  },
  {
   "cell_type": "code",
   "execution_count": 133,
   "id": "3f984430-f1c3-4054-8d4f-c2e256398dcf",
   "metadata": {},
   "outputs": [
    {
     "name": "stdout",
     "output_type": "stream",
     "text": [
      "axis = 0 results in [[-0.90967445 -0.71848059]\n",
      " [-0.77184498 -0.66486263]\n",
      " [-0.3583566  -0.39677286]\n",
      " [ 0.19296125 -0.18230104]\n",
      " [ 1.84691479  1.96241712]]\n",
      "axis = 1 results in [[nan nan]\n",
      " [nan nan]\n",
      " [-1.  1.]\n",
      " [-1.  1.]\n",
      " [-1.  1.]]\n"
     ]
    }
   ],
   "source": [
    "axis_0 = stats.zscore(data_eg,axis = 0)\n",
    "print(f'axis = 0 results in {axis_0}')\n",
    "axis_1 = stats.zscore(data_eg,axis = 1)\n",
    "print(f'axis = 1 results in {axis_1}')"
   ]
  },
  {
   "cell_type": "code",
   "execution_count": 139,
   "id": "dec72693-3957-48ba-8226-07c1c09b0e3b",
   "metadata": {},
   "outputs": [
    {
     "name": "stdout",
     "output_type": "stream",
     "text": [
      "now if i manually take the entries down one column, which is the longer, time axis I get \n",
      "stats.zscore([0,1,4,8,20]) = [-0.90967445 -0.77184498 -0.3583566   0.19296125  1.84691479]\n",
      " which matches axis = 0. this is what we want\n"
     ]
    }
   ],
   "source": [
    "print (f'now if i manually take the entries down one column, which is the longer, time axis I get \\nstats.zscore([0,1,4,8,20]) = {stats.zscore([0,1,4,8,20])}\\n which matches axis = 0. this is what we want')\n"
   ]
  },
  {
   "cell_type": "code",
   "execution_count": 138,
   "id": "bee69a54-dd20-474f-b2c3-46c9404001a2",
   "metadata": {},
   "outputs": [
    {
     "name": "stdout",
     "output_type": "stream",
     "text": [
      "now if i muanlly take the entries within a row, which is the shorter (x electrodes), I get \n",
      "stats.zscore([0,0])=[nan nan]\n",
      " which matches axis = 1\n"
     ]
    }
   ],
   "source": [
    "\n",
    "\n",
    "print (f'now if i muanlly take the entries within a row, which is the shorter (x electrodes), I get \\nstats.zscore([0,0])={stats.zscore([0,0])}\\n which matches axis = 1')\n",
    "\n"
   ]
  },
  {
   "cell_type": "code",
   "execution_count": 149,
   "id": "650ae257-2589-4502-86a8-5981b3882fd9",
   "metadata": {},
   "outputs": [
    {
     "data": {
      "text/plain": [
       "DescribeResult(nobs=2999974, minmax=(array([-111, -143, -157, -161, -161, -156, -154, -161, -162, -155, -145,\n",
       "       -140, -162, -163, -124, -168, -173, -175, -116, -157, -177, -181,\n",
       "       -181, -172, -171, -175, -180, -210, -173, -193, -164, -162],\n",
       "      dtype=int16), array([110, 126, 130, 132, 115, 125, 133, 129, 121, 123, 119, 118, 138,\n",
       "       138, 130, 123, 134, 138, 118, 131, 129, 135, 162, 143, 125, 137,\n",
       "       138, 149, 138, 135, 139, 133], dtype=int16)), mean=array([-0.00570105, -0.00158235, -0.00070634, -0.00096334, -0.00172235,\n",
       "       -0.00125134, -0.00103101, -0.00137335, -0.00121401, -0.00119468,\n",
       "       -0.00290003, -0.00214335, -0.00188802, -0.00265002, -0.00388003,\n",
       "       -0.00145468, -0.00043634, -0.00099534, -0.00611039, -0.00138668,\n",
       "       -0.000365  , -0.00061501, -0.01098176, -0.00106901, -0.0043807 ,\n",
       "       -0.00225302, -0.00069767, -0.00131401, -0.00093867, -0.00055734,\n",
       "       -0.00141168, -0.00029767]), variance=array([291.20532735, 238.77628682, 247.36690414, 280.13292827,\n",
       "       259.27361416, 253.27290989, 246.55892363, 257.73647641,\n",
       "       273.7161673 , 247.38830373, 274.10936924, 259.56035412,\n",
       "       258.19549086, 268.4429063 , 380.98334446, 263.97424965,\n",
       "       279.96371782, 280.12018209, 312.58247224, 275.27226419,\n",
       "       283.45408462, 274.00305465, 669.56197979, 300.31211935,\n",
       "       288.71884995, 306.54798952, 336.45658528, 382.64262139,\n",
       "       284.07422245, 307.76506891, 280.45164307, 367.7176557 ]), skewness=array([-0.12984591, -0.03221253, -0.02908103, -0.02900418, -0.04897326,\n",
       "       -0.03988909, -0.03093793, -0.03598562, -0.03864527, -0.03630727,\n",
       "       -0.05708163, -0.05279442, -0.05081694, -0.08148457, -0.0902701 ,\n",
       "       -0.08494727, -0.03453705, -0.0505175 , -0.13654061, -0.03129442,\n",
       "       -0.04222029, -0.04479296, -0.26874217, -0.04413402, -0.13137006,\n",
       "       -0.06469766, -0.04710884, -0.06381087, -0.04761069, -0.04716971,\n",
       "       -0.04334998, -0.02161016]), kurtosis=array([0.94805675, 0.98307552, 1.0539784 , 0.94982057, 1.04203306,\n",
       "       1.06278576, 1.05175929, 1.03082072, 1.07310192, 1.12090272,\n",
       "       0.95715819, 1.01984164, 1.15615623, 1.25798365, 0.8711313 ,\n",
       "       1.38567369, 1.31936103, 1.21479838, 0.95713067, 1.02761959,\n",
       "       1.30349277, 1.33338668, 1.22904646, 1.28723459, 1.38041252,\n",
       "       1.26501489, 1.37569085, 1.38093588, 1.27612834, 1.32754699,\n",
       "       1.32661186, 1.0153127 ]))"
      ]
     },
     "execution_count": 149,
     "metadata": {},
     "output_type": "execute_result"
    }
   ],
   "source": [
    "stats.describe(data, axis=0)"
   ]
  },
  {
   "cell_type": "code",
   "execution_count": 150,
   "id": "0f8d31bf-7d70-42ed-bd5f-be5aeb21b9eb",
   "metadata": {},
   "outputs": [
    {
     "data": {
      "text/plain": [
       "DescribeResult(nobs=32, minmax=(array([ -2, -14, -17, ..., -42, -29,   0], dtype=int16), array([ 1, 10, 16, ..., -7, -5,  6], dtype=int16)), mean=array([ -0.46875,  -2.375  ,  -1.375  , ..., -24.21875, -16.0625 ,\n",
       "         2.0625 ]), variance=array([ 0.45060484, 18.69354839, 42.17741935, ..., 88.24092742,\n",
       "       41.15725806,  2.31854839]), skewness=array([-0.43997014, -0.13153526, -0.08009067, ...,  0.02611507,\n",
       "       -0.03609158,  0.8959955 ]), kurtosis=array([-0.14224584,  1.69545017,  0.72794007, ..., -0.99292181,\n",
       "       -0.79869797,  0.70536106]))"
      ]
     },
     "execution_count": 150,
     "metadata": {},
     "output_type": "execute_result"
    }
   ],
   "source": [
    "stats.describe(data, axis=1)"
   ]
  },
  {
   "cell_type": "code",
   "execution_count": null,
   "id": "cc8284c4-2b5e-4b14-a3cf-753efdcadb35",
   "metadata": {},
   "outputs": [],
   "source": []
  }
 ],
 "metadata": {
  "kernelspec": {
   "display_name": "Python [conda env:spyglass] *",
   "language": "python",
   "name": "conda-env-spyglass-py"
  },
  "language_info": {
   "codemirror_mode": {
    "name": "ipython",
    "version": 3
   },
   "file_extension": ".py",
   "mimetype": "text/x-python",
   "name": "python",
   "nbconvert_exporter": "python",
   "pygments_lexer": "ipython3",
   "version": "3.9.13"
  }
 },
 "nbformat": 4,
 "nbformat_minor": 5
}
